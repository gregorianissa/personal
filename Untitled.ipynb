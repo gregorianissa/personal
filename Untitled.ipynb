{
 "cells": [
  {
   "cell_type": "markdown",
   "id": "b332e1a6-91ac-46fd-91c3-3a72999c4886",
   "metadata": {},
   "source": [
    "test"
   ]
  },
  {
   "cell_type": "markdown",
   "id": "5c97decc-7db6-4182-934b-3290fc67740e",
   "metadata": {},
   "source": [
    "editado no jupyter lab\n"
   ]
  },
  {
   "cell_type": "code",
   "execution_count": null,
   "id": "b8567538-b6e0-4528-9509-79710c40af9a",
   "metadata": {},
   "outputs": [],
   "source": []
  }
 ],
 "metadata": {
  "kernelspec": {
   "display_name": "Python 3",
   "language": "python",
   "name": "python3"
  },
  "language_info": {
   "codemirror_mode": {
    "name": "ipython",
    "version": 3
   },
   "file_extension": ".py",
   "mimetype": "text/x-python",
   "name": "python",
   "nbconvert_exporter": "python",
   "pygments_lexer": "ipython3",
   "version": "3.7.3"
  }
 },
 "nbformat": 4,
 "nbformat_minor": 5
}
